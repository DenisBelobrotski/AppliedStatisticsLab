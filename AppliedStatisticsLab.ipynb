{
 "cells": [
  {
   "cell_type": "markdown",
   "source": [
    "# Математическая и прикладная статистика\n",
    "## Лабораторная работа\n",
    "## Белоброцкий Денис Витальевич, Магистратура, 1 курс\n",
    "### Вариант\n",
    "Количество гласных букв = 10  \n",
    "Количество согласных букв = 16  \n",
    "Вариант = 06\n",
    "### Исходный код\n",
    "https://github.com/DenisBelobrotski/AppliedStatisticsLab\n"
   ],
   "metadata": {
    "collapsed": false,
    "pycharm": {
     "name": "#%% md\n"
    }
   }
  },
  {
   "cell_type": "markdown",
   "source": [
    "## Задание 1\n"
   ],
   "metadata": {
    "collapsed": false,
    "pycharm": {
     "name": "#%% md\n"
    }
   }
  },
  {
   "cell_type": "markdown",
   "source": [
    "### Модули\n"
   ],
   "metadata": {
    "collapsed": false,
    "pycharm": {
     "name": "#%% md\n"
    }
   }
  },
  {
   "cell_type": "code",
   "execution_count": 1,
   "outputs": [],
   "source": [
    "import math\n",
    "import numpy as np\n",
    "from scipy import stats\n",
    "from scipy import special\n",
    "import matplotlib.pyplot as plt\n",
    "# %matplotlib inline\n"
   ],
   "metadata": {
    "collapsed": false,
    "pycharm": {
     "name": "#%%\n",
     "is_executing": false
    }
   }
  },
  {
   "cell_type": "markdown",
   "source": [
    "### Чтение данных (data_1_var_06.txt)\n"
   ],
   "metadata": {
    "collapsed": false,
    "pycharm": {
     "name": "#%% md\n"
    }
   }
  },
  {
   "cell_type": "code",
   "execution_count": 2,
   "outputs": [
    {
     "name": "stdout",
     "text": [
      "Parsed numbers count = 345\nIs all data parsed = True\n"
     ],
     "output_type": "stream"
    }
   ],
   "source": [
    "data_file_name = \"data_1_var_06.txt\"\n",
    "\n",
    "def parse_data(file_name):\n",
    "    result_data = []\n",
    "    result_data_len = 0\n",
    "    all_data_parsed = False\n",
    "    \n",
    "    with open(file_name, \"r\") as file:\n",
    "        numbers = file.read().split(\",\")\n",
    "        numbers_len = len(numbers)\n",
    "        for current in numbers:\n",
    "            result_data.append(float(current.strip()))\n",
    "        result_data_len = len(result_data)\n",
    "        all_data_parsed = (numbers_len == result_data_len)\n",
    "        \n",
    "    return result_data, result_data_len, all_data_parsed\n",
    "        \n",
    "data, dataLen, allDataParsed = parse_data(data_file_name)\n",
    "\n",
    "print(\"Parsed numbers count = \" + str(dataLen))\n",
    "print(\"Is all data parsed = \" + str(allDataParsed))\n",
    "sortedData = sorted(data)\n",
    "    "
   ],
   "metadata": {
    "collapsed": false,
    "pycharm": {
     "name": "#%%\n",
     "is_executing": false
    }
   }
  },
  {
   "cell_type": "markdown",
   "source": [
    "### а) Выборочное среднее\n"
   ],
   "metadata": {
    "collapsed": false,
    "pycharm": {
     "name": "#%% md\n"
    }
   }
  },
  {
   "cell_type": "code",
   "execution_count": 3,
   "outputs": [
    {
     "name": "stdout",
     "text": [
      "Sample mean = 3.5859199999999984\n"
     ],
     "output_type": "stream"
    }
   ],
   "source": [
    "def calc_sample_mean(in_data):\n",
    "    in_data_len = len(in_data)\n",
    "    mean_sum = 0.0\n",
    "    for number in in_data:\n",
    "        mean_sum += number\n",
    "    return mean_sum / in_data_len\n",
    "\n",
    "sampleMean = calc_sample_mean(data)\n",
    "print(\"Sample mean = \" + str(sampleMean))\n"
   ],
   "metadata": {
    "collapsed": false,
    "pycharm": {
     "name": "#%%\n",
     "is_executing": false
    }
   }
  },
  {
   "cell_type": "markdown",
   "source": [
    "### б) Выборочная дисперсия\n"
   ],
   "metadata": {
    "collapsed": false,
    "pycharm": {
     "name": "#%% md\n"
    }
   }
  },
  {
   "cell_type": "code",
   "execution_count": 4,
   "outputs": [
    {
     "name": "stdout",
     "text": [
      "Sample variance = 1.2073530875130443\n"
     ],
     "output_type": "stream"
    }
   ],
   "source": [
    "def calc_variance_sum(in_data, mean):\n",
    "    variance_sum = 0.0\n",
    "    for number in in_data:\n",
    "        variance_sum += (number - mean)**2\n",
    "    return variance_sum\n",
    "\n",
    "def calc_sample_variance(in_data, mean):\n",
    "    in_data_len = len(in_data)\n",
    "    return calc_variance_sum(in_data, mean) / in_data_len\n",
    "\n",
    "sampleVariance = calc_sample_variance(data, sampleMean)\n",
    "print(\"Sample variance = \" + str(sampleVariance))\n"
   ],
   "metadata": {
    "collapsed": false,
    "pycharm": {
     "name": "#%%\n",
     "is_executing": false
    }
   }
  },
  {
   "cell_type": "markdown",
   "source": [
    "### в) Исправленная дисперсия\n"
   ],
   "metadata": {
    "collapsed": false,
    "pycharm": {
     "name": "#%% md\n"
    }
   }
  },
  {
   "cell_type": "code",
   "execution_count": 5,
   "outputs": [
    {
     "name": "stdout",
     "text": [
      "Unbiased sample variance = 1.210862834860466\n"
     ],
     "output_type": "stream"
    }
   ],
   "source": [
    "def calc_unbiased_sample_variance(in_data, mean):\n",
    "    in_data_len = len(in_data)\n",
    "    return calc_variance_sum(in_data, mean) / (in_data_len - 1)\n",
    "\n",
    "unbiasedSampleVariance = calc_unbiased_sample_variance(data, sampleMean)\n",
    "print(\"Unbiased sample variance = \" + str(unbiasedSampleVariance))\n"
   ],
   "metadata": {
    "collapsed": false,
    "pycharm": {
     "name": "#%%\n",
     "is_executing": false
    }
   }
  },
  {
   "cell_type": "markdown",
   "source": [
    "### г) Размах выборки\n"
   ],
   "metadata": {
    "collapsed": false,
    "pycharm": {
     "name": "#%% md\n"
    }
   }
  },
  {
   "cell_type": "code",
   "execution_count": 6,
   "outputs": [
    {
     "name": "stdout",
     "text": [
      "Min = 0.6819\nMax = 6.5951\nRange = 5.913200000000001\n"
     ],
     "output_type": "stream"
    }
   ],
   "source": [
    "dataMin = sortedData[0]\n",
    "dataMax = sortedData[-1]\n",
    "dataRange = dataMax - dataMin\n",
    "print(\"Min = \" + str(dataMin))\n",
    "print(\"Max = \" + str(dataMax))\n",
    "print(\"Range = \" + str(dataRange))\n"
   ],
   "metadata": {
    "collapsed": false,
    "pycharm": {
     "name": "#%%\n",
     "is_executing": false
    }
   }
  },
  {
   "cell_type": "markdown",
   "source": [
    "### д) Медиана\n"
   ],
   "metadata": {
    "collapsed": false,
    "pycharm": {
     "name": "#%% md\n"
    }
   }
  },
  {
   "cell_type": "code",
   "execution_count": 7,
   "outputs": [
    {
     "name": "stdout",
     "text": [
      "Median = 3.5788\n"
     ],
     "output_type": "stream"
    }
   ],
   "source": [
    "median = sortedData[dataLen // 2]\n",
    "if dataLen % 2 == 0:\n",
    "    median += sortedData[dataLen // 2 - 1]\n",
    "    median /= 2\n",
    "    \n",
    "print(\"Median = \" + str(median))\n"
   ],
   "metadata": {
    "collapsed": false,
    "pycharm": {
     "name": "#%%\n",
     "is_executing": false
    }
   }
  },
  {
   "cell_type": "markdown",
   "source": [
    "### е) Квартили\n"
   ],
   "metadata": {
    "collapsed": false,
    "pycharm": {
     "name": "#%% md\n"
    }
   }
  },
  {
   "cell_type": "code",
   "execution_count": 8,
   "outputs": [
    {
     "name": "stdout",
     "text": [
      "Q1 = 2.8036\nQ2 = 3.5788\nQ3 = 4.3214\n"
     ],
     "output_type": "stream"
    }
   ],
   "source": [
    "lowerQuartile = sortedData[dataLen // 4]\n",
    "upperQuartile = sortedData[3 * dataLen // 4]\n",
    "\n",
    "print(\"Q1 = \" + str(lowerQuartile))\n",
    "print(\"Q2 = \" + str(median))\n",
    "print(\"Q3 = \" + str(upperQuartile))\n"
   ],
   "metadata": {
    "collapsed": false,
    "pycharm": {
     "name": "#%%\n",
     "is_executing": false
    }
   }
  },
  {
   "cell_type": "markdown",
   "source": [
    "### ж) Выборочная квантиль уровня 1/3\n"
   ],
   "metadata": {
    "collapsed": false,
    "pycharm": {
     "name": "#%% md\n"
    }
   }
  },
  {
   "cell_type": "code",
   "execution_count": 9,
   "outputs": [
    {
     "name": "stdout",
     "text": [
      "Q = 3.0461\n"
     ],
     "output_type": "stream"
    }
   ],
   "source": [
    "quantile_1_3 = sortedData[dataLen // 3]\n",
    "\n",
    "print(\"Q = \" + str(quantile_1_3))\n"
   ],
   "metadata": {
    "collapsed": false,
    "pycharm": {
     "name": "#%%\n",
     "is_executing": false
    }
   }
  },
  {
   "cell_type": "markdown",
   "source": [
    "### з) Гистограмма, полигон частот, плотность нормального распределения.  \n",
    "PDF - Probability Density Function (Функция плотности распределения)\n"
   ],
   "metadata": {
    "collapsed": false,
    "pycharm": {
     "name": "#%% md\n"
    }
   }
  },
  {
   "cell_type": "code",
   "execution_count": 10,
   "outputs": [
    {
     "name": "stdout",
     "text": [
      "mu =  3.5859199999999984\nsigma =  1.1003921277710351\nhist bins count =  20\n"
     ],
     "output_type": "stream"
    },
    {
     "data": {
      "text/plain": "<Figure size 432x288 with 1 Axes>",
      "image/png": "[encoded data removed]"
     },
     "metadata": {
      "needs_background": "light"
     },
     "output_type": "display_data"
    }
   ],
   "source": [
    "def norm_pdf(x, mu, sigma):\n",
    "    return (1.0 / (sigma * math.sqrt(2 * math.pi))) * math.exp(-0.5 * ((x - mu) / sigma)**2)\n",
    "\n",
    "def norm_pdf_list(x, mu, sigma):\n",
    "    result = x.copy()\n",
    "    for i in range(len(x)):\n",
    "        result[i] = norm_pdf(result[i], mu, sigma)\n",
    "\n",
    "    return result\n",
    "\n",
    "def draw_pdf(hist_bins_count, mu, sigma):\n",
    "    n, bins, patches = plt.hist(data, hist_bins_count, density=True, label=\"Histogram\")\n",
    "    bins = np.delete(bins, -1)\n",
    "    \n",
    "    for i in range(hist_bins_count):\n",
    "        bins[i] += patches[i].get_width() / 2\n",
    "        \n",
    "    plt.plot(bins, n, label=\"Frequency polygon\")\n",
    "    \n",
    "    nodes_count = 100\n",
    "    nodes = np.linspace(mu - 3 * sigma, mu + 3 * sigma, nodes_count)\n",
    "    plt.plot(nodes, norm_pdf_list(nodes, mu, sigma), label=\"PDF\")\n",
    "    \n",
    "    plt.legend(bbox_to_anchor=(1.05, 1), loc='upper left', borderaxespad=0.0)\n",
    "    \n",
    "    print(\"mu = \", str(mu))\n",
    "    print(\"sigma = \", str(sigma))\n",
    "    print(\"hist bins count = \", str(hist_bins_count))\n",
    "    \n",
    "draw_pdf(20, sampleMean, math.sqrt(unbiasedSampleVariance))\n"
   ],
   "metadata": {
    "collapsed": false,
    "pycharm": {
     "name": "#%%\n",
     "is_executing": false
    }
   }
  },
  {
   "cell_type": "markdown",
   "source": [
    "### и) Эмпирическая функция распределения и функция распределения нормального закона  \n",
    "CDF - Cumulative distribution function (Теоритическая функция распределения)  \n",
    "EDF - Empirical distribution function (Эмпирическая функция распределения)  \n"
   ],
   "metadata": {
    "collapsed": false,
    "pycharm": {
     "name": "#%% md\n",
     "is_executing": false
    }
   }
  },
  {
   "cell_type": "code",
   "execution_count": 11,
   "outputs": [
    {
     "data": {
      "text/plain": "<Figure size 432x288 with 1 Axes>",
      "image/png": "[encoded data removed]"
     },
     "metadata": {
      "needs_background": "light"
     },
     "output_type": "display_data"
    }
   ],
   "source": [
    "def norm_cdf(x, mu, sigma):\n",
    "    return 0.5 * (1 + math.erf((x - mu) / (sigma * 1.4142)))\n",
    "\n",
    "def norm_cdf_list(in_data, mu, sigma):\n",
    "    out_data = in_data.copy()\n",
    "    for i in range(len(out_data)):\n",
    "        out_data[i] = norm_cdf(out_data[i], mu, sigma)\n",
    "    return out_data\n",
    "\n",
    "def edf(in_data):\n",
    "    out_data = in_data.copy()\n",
    "    out_data_len = len(out_data)\n",
    "    for i in range(out_data_len):\n",
    "        out_data[i] = i / out_data_len\n",
    "    return out_data\n",
    "\n",
    "def draw_cdf(mu, sigma):\n",
    "    plt.plot(sortedData, norm_cdf_list(sortedData, mu, sigma), label=\"CDF\")\n",
    "    plt.plot(sortedData, edf(sortedData), label=\"EDF\")\n",
    "    plt.legend(bbox_to_anchor=(1.05, 1), loc='upper left', borderaxespad=0.0)\n",
    "\n",
    "draw_cdf(sampleMean, math.sqrt(unbiasedSampleVariance))\n"
   ],
   "metadata": {
    "collapsed": false,
    "pycharm": {
     "name": "#%%\n",
     "is_executing": false
    }
   }
  },
  {
   "cell_type": "markdown",
   "source": [
    "### к) Доверительные интервалы для среднего и дисперсии с вероятностью 0.99\n"
   ],
   "metadata": {
    "collapsed": false,
    "pycharm": {
     "name": "#%% md\n"
    }
   }
  },
  {
   "cell_type": "code",
   "execution_count": 12,
   "outputs": [
    {
     "name": "stdout",
     "text": [
      "Mean confidence interval = (3.5851758590018594, 3.5866641409981375)\nSample mean = 3.5859199999999984\n\nVariance confidence interval = (1.0029449329842604, 1.4865973537588315)\nUnbiased sample variance = 1.210862834860466\n"
     ],
     "output_type": "stream"
    }
   ],
   "source": [
    "\n",
    "def confidence_interval_mean(mean, variance, data_len, probability):\n",
    "    bias = math.sqrt(variance / (data_len - 1)) * stats.t.ppf(1 - probability / 2, data_len - 1)\n",
    "    return mean - bias, mean + bias\n",
    "\n",
    "def confidence_interval_variance(variance, data_len, probability):\n",
    "    lower_bound = (data_len - 1) * variance / stats.chi2.ppf((1 + probability) / 2, data_len - 1)\n",
    "    upper_bound = (data_len - 1) * variance / stats.chi2.ppf((1 - probability) / 2, data_len - 1)\n",
    "    return lower_bound, upper_bound\n",
    "\n",
    "print(\"Mean confidence interval = \" + str(confidence_interval_mean(sampleMean, unbiasedSampleVariance, dataLen, 0.99)))\n",
    "print(\"Sample mean = \" + str(sampleMean))\n",
    "print()\n",
    "print(\"Variance confidence interval = \" + str(confidence_interval_variance(unbiasedSampleVariance, dataLen, 0.99)))\n",
    "print(\"Unbiased sample variance = \" + str(unbiasedSampleVariance))\n"
   ],
   "metadata": {
    "collapsed": false,
    "pycharm": {
     "name": "#%%\n",
     "is_executing": false
    }
   }
  },
  {
   "cell_type": "markdown",
   "source": [
    "## Задание 2\n"
   ],
   "metadata": {
    "collapsed": false,
    "pycharm": {
     "name": "#%% md\n"
    }
   }
  },
  {
   "cell_type": "markdown",
   "source": [
    "### а) Критерий Колмогорова (нормальное распределение со средним 10 и дисперсией 5.5). Уровень занчимости 0.05.\n"
   ],
   "metadata": {
    "collapsed": false,
    "pycharm": {
     "name": "#%% md\n"
    }
   }
  },
  {
   "cell_type": "code",
   "execution_count": 13,
   "outputs": [
    {
     "name": "stdout",
     "text": [
      "Kolmogorov test:\nstatistic =  17.604856029131053\nquantile =  1.36\npassed =  False\n"
     ],
     "output_type": "stream"
    }
   ],
   "source": [
    "def kolmogorov_test_normal(sorted_data, mean, variance, quantile):\n",
    "    data_len = len(sorted_data)\n",
    "    cdf_result = norm_cdf_list(sortedData, mean, math.sqrt(variance))\n",
    "    edf_result = edf(sortedData)\n",
    "    \n",
    "    max_distance = 0\n",
    "    for i in range(data_len):\n",
    "        # max_distance = max(max_distance, math.fabs(cdf_result[i] - edf_result[i]))\n",
    "        max_distance = max(max_distance, math.fabs(cdf_result[i] - (i + 1) / data_len))\n",
    "        \n",
    "    result_statistic = math.sqrt(data_len) * max_distance\n",
    "    return result_statistic, (result_statistic < quantile)\n",
    "    \n",
    "kolmogorov_test_normal_statistic, kolmogorov_test_normal_passed = \\\n",
    "    kolmogorov_test_normal(sortedData, 10.0, 5.5, 1.36)\n",
    "print(\"Kolmogorov test:\")\n",
    "print(\"statistic = \", str(kolmogorov_test_normal_statistic))\n",
    "print(\"quantile = \", str(1.36))\n",
    "print(\"passed = \", str(kolmogorov_test_normal_passed))\n"
   ],
   "metadata": {
    "collapsed": false,
    "pycharm": {
     "name": "#%%\n",
     "is_executing": false
    }
   }
  },
  {
   "cell_type": "markdown",
   "source": [
    "### б) Критерий Крамера-Мизеса (нормальное распределение со средним 10 и дисперсией 5.5). Уровень занчимости 0.05.\n"
   ],
   "metadata": {
    "collapsed": false,
    "pycharm": {
     "name": "#%% md\n"
    }
   }
  },
  {
   "cell_type": "code",
   "execution_count": 14,
   "outputs": [
    {
     "name": "stdout",
     "text": [
      "Cramer-Mises test:\nstatistic =  111.35222279248605\nquantile =  0.46\npassed =  False\n"
     ],
     "output_type": "stream"
    }
   ],
   "source": [
    "def cramer_mises_test_normal(sorted_data, mean, variance, quntile):\n",
    "    data_len = len(sorted_data)\n",
    "    cdf_result = norm_cdf_list(sortedData, mean, math.sqrt(variance))\n",
    "    \n",
    "    result_statistic = 1 / (12 * data_len)\n",
    "    for i in range(data_len):\n",
    "        result_statistic += (cdf_result[i] - (2 * i + 1)/(2 * data_len))**2\n",
    "    \n",
    "    return result_statistic, (result_statistic < quntile)\n",
    "\n",
    "cramer_mises_test_normal_statistic, cramer_mises_test_normal_passed = \\\n",
    "    cramer_mises_test_normal(sortedData, 10.0, 5.5, 0.46)\n",
    "print(\"Cramer-Mises test:\")\n",
    "print(\"statistic = \", str(cramer_mises_test_normal_statistic))\n",
    "print(\"quantile = \", str(0.46))\n",
    "print(\"passed = \", str(cramer_mises_test_normal_passed))\n"
   ],
   "metadata": {
    "collapsed": false,
    "pycharm": {
     "name": "#%%\n",
     "is_executing": false
    }
   }
  },
  {
   "cell_type": "markdown",
   "source": [
    "### в) Критерий Андерсон-Дарлинга (нормальное распределение со средним 10 и дисперсией 5.5). Уровень занчимости 0.05.\n"
   ],
   "metadata": {
    "collapsed": false
   }
  },
  {
   "cell_type": "code",
   "execution_count": 15,
   "outputs": [
    {
     "name": "stdout",
     "text": [
      "Anderson-Darling test:\nstatistic =  1402.6543578852445\nquantile =  2.49\npassed =  False\n"
     ],
     "output_type": "stream"
    }
   ],
   "source": [
    "def anderson_darling_test_normal(sorted_data, mean, variance, quntile):\n",
    "    data_len = len(sorted_data)\n",
    "    cdf_result = norm_cdf_list(sortedData, mean, math.sqrt(variance))\n",
    "    \n",
    "    result_statistic = -data_len\n",
    "    for i in range(data_len):\n",
    "        coef = (2 * i + 1)/(2 * data_len)\n",
    "        result_statistic += -2 * (coef * math.log(cdf_result[i]) + (1 - coef) * math.log(1 - cdf_result[i]))\n",
    "    \n",
    "    return result_statistic, (result_statistic < quntile)\n",
    "\n",
    "anderson_darling_test_normal_statistic, anderson_darling_test_normal_passed = \\\n",
    "    anderson_darling_test_normal(sortedData, 10.0, 5.5, 0.46)\n",
    "print(\"Anderson-Darling test:\")\n",
    "print(\"statistic = \", str(anderson_darling_test_normal_statistic))\n",
    "print(\"quantile = \", str(2.49))\n",
    "print(\"passed = \", str(anderson_darling_test_normal_passed))\n"
   ],
   "metadata": {
    "collapsed": false,
    "pycharm": {
     "name": "#%%\n",
     "is_executing": false
    }
   }
  },
  {
   "cell_type": "markdown",
   "source": [
    "### Чтение данных второй выборки (data_1_var_07.txt)\n"
   ],
   "metadata": {
    "collapsed": false,
    "pycharm": {
     "name": "#%% md\n"
    }
   }
  },
  {
   "cell_type": "code",
   "execution_count": 16,
   "outputs": [
    {
     "name": "stdout",
     "text": [
      "Parsed numbers count = 349\nIs all data parsed = True\n"
     ],
     "output_type": "stream"
    }
   ],
   "source": [
    "data2_file_name = \"data_1_var_07.txt\"\n",
    "        \n",
    "data2, data2Len, allData2Parsed = parse_data(data2_file_name)\n",
    "\n",
    "print(\"Parsed numbers count = \" + str(data2Len))\n",
    "print(\"Is all data parsed = \" + str(allData2Parsed))\n",
    "sortedData2 = sorted(data2)\n"
   ],
   "metadata": {
    "collapsed": false,
    "pycharm": {
     "name": "#%%\n",
     "is_executing": false
    }
   }
  },
  {
   "cell_type": "markdown",
   "source": [
    "г) При помощи критерия хи-квадрат проверить гипотезу, что вторая выборка имеет нормальное распределение.\n"
   ],
   "metadata": {
    "collapsed": false,
    "pycharm": {
     "name": "#%% md\n"
    }
   }
  },
  {
   "cell_type": "code",
   "execution_count": 17,
   "outputs": [
    {
     "name": "stdout",
     "text": [
      "Pearson test:\nhist intervals =  20\nstatistic =  30.06662489471957\nquantile =  30.144\npassed =  True\n"
     ],
     "output_type": "stream"
    },
    {
     "data": {
      "text/plain": "<Figure size 432x288 with 1 Axes>",
      "image/png": "[encoded data removed]"
     },
     "metadata": {
      "needs_background": "light"
     },
     "output_type": "display_data"
    }
   ],
   "source": [
    "def create_hist(in_data, intervals_count, normalized = False):\n",
    "    out_hist = [0] * intervals_count\n",
    "    intervals_positions = [0] * intervals_count\n",
    "    hist_step = (in_data[-1] - in_data[0]) / intervals_count\n",
    "    cur_border = in_data[0] + hist_step\n",
    "    cur_interval_index = 0\n",
    "    in_data_len = len(in_data)\n",
    "    \n",
    "    for i in range(intervals_count):\n",
    "        intervals_positions[i] = in_data[0] + hist_step * i\n",
    "\n",
    "    for current_number in in_data:\n",
    "        if current_number < cur_border:\n",
    "            out_hist[cur_interval_index] += 1\n",
    "        elif cur_interval_index < intervals_count - 1:\n",
    "            cur_interval_index += 1\n",
    "            cur_border += hist_step\n",
    "    \n",
    "    if normalized:\n",
    "        for i in range(intervals_count):\n",
    "            out_hist[i] /= in_data_len\n",
    "            \n",
    "    return out_hist, intervals_positions\n",
    "\n",
    "def pearson_test_normal(in_data, bins_count, quantile):\n",
    "    mean = calc_sample_mean(in_data)\n",
    "    sqrd_variance = math.sqrt(calc_unbiased_sample_variance(in_data, mean))\n",
    "    in_data_len = len(in_data)\n",
    "    in_data_hist, _ = create_hist(in_data, bins_count, False)\n",
    "    step = (in_data[-1] - in_data[0]) / bins_count\n",
    "    cur_border = in_data[0]\n",
    "    chi_sum = 0\n",
    "    \n",
    "    for i in range(bins_count):\n",
    "        prev_border = cur_border\n",
    "        cur_border = in_data[0] + (i + 1) * step\n",
    "        expected_count = in_data_len * (norm_cdf(cur_border, mean, sqrd_variance) - norm_cdf(prev_border, mean, sqrd_variance))\n",
    "        chi_sum += (in_data_hist[i] - expected_count)**2 / expected_count\n",
    "        \n",
    "    return chi_sum, (chi_sum < quantile)\n",
    "    \n",
    "hist, interval_positions = create_hist(sortedData2, 20, True)\n",
    "plt.plot(interval_positions, hist, label=\"Frequency polygon\")\n",
    "plt.legend(bbox_to_anchor=(1.05, 1), loc='upper left', borderaxespad=0.0)\n",
    "    \n",
    "pearson_test_normal_statistic, pearson_test_normal_passed = \\\n",
    "    pearson_test_normal(sortedData2, 20, 30.144)\n",
    "print(\"Pearson test:\")\n",
    "print(\"hist intervals = \", str(20))\n",
    "print(\"statistic = \", str(pearson_test_normal_statistic))\n",
    "print(\"quantile = \", str(30.144))\n",
    "print(\"passed = \", str(pearson_test_normal_passed))\n"
   ],
   "metadata": {
    "collapsed": false,
    "pycharm": {
     "name": "#%%\n",
     "is_executing": false
    }
   }
  },
  {
   "cell_type": "code",
   "execution_count": 17,
   "outputs": [],
   "source": [],
   "metadata": {
    "collapsed": false,
    "pycharm": {
     "name": "#%%\n",
     "is_executing": false
    }
   }
  }
 ],
 "metadata": {
  "language_info": {
   "codemirror_mode": {
    "name": "ipython",
    "version": 2
   },
   "file_extension": ".py",
   "mimetype": "text/x-python",
   "name": "python",
   "nbconvert_exporter": "python",
   "pygments_lexer": "ipython2",
   "version": "2.7.6"
  },
  "kernelspec": {
   "name": "python3",
   "language": "python",
   "display_name": "Python 3"
  },
  "pycharm": {
   "stem_cell": {
    "cell_type": "raw",
    "source": [],
    "metadata": {
     "collapsed": false
    }
   }
  }
 },
 "nbformat": 4,
 "nbformat_minor": 0
}